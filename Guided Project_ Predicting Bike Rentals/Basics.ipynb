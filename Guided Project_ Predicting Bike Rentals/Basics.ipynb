{
 "cells": [
  {
   "cell_type": "markdown",
   "metadata": {
    "collapsed": true
   },
   "source": [
    "# Guided Project: Predicting Bike Rentals"
   ]
  },
  {
   "cell_type": "markdown",
   "metadata": {},
   "source": [
    "Many U.S. cities have communal bike sharing stations where you can rent bicycles by the hour or day. Washington, D.C. is one of these cities. The District collects detailed data on the number of bicycles people rent by the hour and day.\n",
    "\n",
    "Here are the descriptions for the relevant columns:\n",
    "\n",
    "    instant - A unique sequential ID number for each row\n",
    "    dteday - The date of the rentals\n",
    "    season - The season in which the rentals occurred\n",
    "    yr - The year the rentals occurred\n",
    "    mnth - The month the rentals occurred\n",
    "    hr - The hour the rentals occurred\n",
    "    holiday - Whether or not the day was a holiday\n",
    "    weekday - The day of the week (as a number, 0 to 7)\n",
    "    workingday - Whether or not the day was a working day\n",
    "    weathersit - The weather (as a categorical variable)\n",
    "    temp - The temperature, on a 0-1 scale\n",
    "    atemp - The adjusted temperature\n",
    "    hum - The humidity, on a 0-1 scale\n",
    "    windspeed - The wind speed, on a 0-1 scale\n",
    "    casual - The number of casual riders (people who hadn't previously signed up with the bike sharing program)\n",
    "    registered - The number of registered riders (people who had already signed up)\n",
    "    cnt - The total number of bike rentals (casual + registered)"
   ]
  },
  {
   "cell_type": "markdown",
   "metadata": {},
   "source": [
    "In this project, we'll try to predict the total number of bikes people rented in a given hour. We'll predict the cnt column using all of the other columns, except for casual and registered. To accomplish this, we'll create a few different machine learning models and evaluate their performance."
   ]
  },
  {
   "cell_type": "code",
   "execution_count": 1,
   "metadata": {
    "collapsed": true
   },
   "outputs": [],
   "source": [
    "#import necessary libraries \n",
    "import numpy as np\n",
    "import pandas as pd \n",
    "import matplotlib.pyplot as plt\n",
    "import seaborn as sns\n",
    "%matplotlib inline"
   ]
  },
  {
   "cell_type": "code",
   "execution_count": 2,
   "metadata": {
    "collapsed": false
   },
   "outputs": [
    {
     "data": {
      "text/html": [
       "<div>\n",
       "<style scoped>\n",
       "    .dataframe tbody tr th:only-of-type {\n",
       "        vertical-align: middle;\n",
       "    }\n",
       "\n",
       "    .dataframe tbody tr th {\n",
       "        vertical-align: top;\n",
       "    }\n",
       "\n",
       "    .dataframe thead th {\n",
       "        text-align: right;\n",
       "    }\n",
       "</style>\n",
       "<table border=\"1\" class=\"dataframe\">\n",
       "  <thead>\n",
       "    <tr style=\"text-align: right;\">\n",
       "      <th></th>\n",
       "      <th>instant</th>\n",
       "      <th>dteday</th>\n",
       "      <th>season</th>\n",
       "      <th>yr</th>\n",
       "      <th>mnth</th>\n",
       "      <th>hr</th>\n",
       "      <th>holiday</th>\n",
       "      <th>weekday</th>\n",
       "      <th>workingday</th>\n",
       "      <th>weathersit</th>\n",
       "      <th>temp</th>\n",
       "      <th>atemp</th>\n",
       "      <th>hum</th>\n",
       "      <th>windspeed</th>\n",
       "      <th>casual</th>\n",
       "      <th>registered</th>\n",
       "      <th>cnt</th>\n",
       "    </tr>\n",
       "  </thead>\n",
       "  <tbody>\n",
       "    <tr>\n",
       "      <th>0</th>\n",
       "      <td>1</td>\n",
       "      <td>2011-01-01</td>\n",
       "      <td>1</td>\n",
       "      <td>0</td>\n",
       "      <td>1</td>\n",
       "      <td>0</td>\n",
       "      <td>0</td>\n",
       "      <td>6</td>\n",
       "      <td>0</td>\n",
       "      <td>1</td>\n",
       "      <td>0.24</td>\n",
       "      <td>0.2879</td>\n",
       "      <td>0.81</td>\n",
       "      <td>0.0</td>\n",
       "      <td>3</td>\n",
       "      <td>13</td>\n",
       "      <td>16</td>\n",
       "    </tr>\n",
       "    <tr>\n",
       "      <th>1</th>\n",
       "      <td>2</td>\n",
       "      <td>2011-01-01</td>\n",
       "      <td>1</td>\n",
       "      <td>0</td>\n",
       "      <td>1</td>\n",
       "      <td>1</td>\n",
       "      <td>0</td>\n",
       "      <td>6</td>\n",
       "      <td>0</td>\n",
       "      <td>1</td>\n",
       "      <td>0.22</td>\n",
       "      <td>0.2727</td>\n",
       "      <td>0.80</td>\n",
       "      <td>0.0</td>\n",
       "      <td>8</td>\n",
       "      <td>32</td>\n",
       "      <td>40</td>\n",
       "    </tr>\n",
       "    <tr>\n",
       "      <th>2</th>\n",
       "      <td>3</td>\n",
       "      <td>2011-01-01</td>\n",
       "      <td>1</td>\n",
       "      <td>0</td>\n",
       "      <td>1</td>\n",
       "      <td>2</td>\n",
       "      <td>0</td>\n",
       "      <td>6</td>\n",
       "      <td>0</td>\n",
       "      <td>1</td>\n",
       "      <td>0.22</td>\n",
       "      <td>0.2727</td>\n",
       "      <td>0.80</td>\n",
       "      <td>0.0</td>\n",
       "      <td>5</td>\n",
       "      <td>27</td>\n",
       "      <td>32</td>\n",
       "    </tr>\n",
       "    <tr>\n",
       "      <th>3</th>\n",
       "      <td>4</td>\n",
       "      <td>2011-01-01</td>\n",
       "      <td>1</td>\n",
       "      <td>0</td>\n",
       "      <td>1</td>\n",
       "      <td>3</td>\n",
       "      <td>0</td>\n",
       "      <td>6</td>\n",
       "      <td>0</td>\n",
       "      <td>1</td>\n",
       "      <td>0.24</td>\n",
       "      <td>0.2879</td>\n",
       "      <td>0.75</td>\n",
       "      <td>0.0</td>\n",
       "      <td>3</td>\n",
       "      <td>10</td>\n",
       "      <td>13</td>\n",
       "    </tr>\n",
       "    <tr>\n",
       "      <th>4</th>\n",
       "      <td>5</td>\n",
       "      <td>2011-01-01</td>\n",
       "      <td>1</td>\n",
       "      <td>0</td>\n",
       "      <td>1</td>\n",
       "      <td>4</td>\n",
       "      <td>0</td>\n",
       "      <td>6</td>\n",
       "      <td>0</td>\n",
       "      <td>1</td>\n",
       "      <td>0.24</td>\n",
       "      <td>0.2879</td>\n",
       "      <td>0.75</td>\n",
       "      <td>0.0</td>\n",
       "      <td>0</td>\n",
       "      <td>1</td>\n",
       "      <td>1</td>\n",
       "    </tr>\n",
       "  </tbody>\n",
       "</table>\n",
       "</div>"
      ],
      "text/plain": [
       "   instant      dteday  season  yr  mnth  hr  holiday  weekday  workingday  \\\n",
       "0        1  2011-01-01       1   0     1   0        0        6           0   \n",
       "1        2  2011-01-01       1   0     1   1        0        6           0   \n",
       "2        3  2011-01-01       1   0     1   2        0        6           0   \n",
       "3        4  2011-01-01       1   0     1   3        0        6           0   \n",
       "4        5  2011-01-01       1   0     1   4        0        6           0   \n",
       "\n",
       "   weathersit  temp   atemp   hum  windspeed  casual  registered  cnt  \n",
       "0           1  0.24  0.2879  0.81        0.0       3          13   16  \n",
       "1           1  0.22  0.2727  0.80        0.0       8          32   40  \n",
       "2           1  0.22  0.2727  0.80        0.0       5          27   32  \n",
       "3           1  0.24  0.2879  0.75        0.0       3          10   13  \n",
       "4           1  0.24  0.2879  0.75        0.0       0           1    1  "
      ]
     },
     "execution_count": 2,
     "metadata": {},
     "output_type": "execute_result"
    }
   ],
   "source": [
    "#import data into pandas and explore first few rows\n",
    "bike_rentals = pd.read_csv('bike_rental_hour.csv')\n",
    "\n",
    "bike_rentals.head()\n"
   ]
  },
  {
   "cell_type": "code",
   "execution_count": 3,
   "metadata": {
    "collapsed": false
   },
   "outputs": [
    {
     "data": {
      "text/plain": [
       "<matplotlib.axes._subplots.AxesSubplot at 0x7f8c6ac4ee48>"
      ]
     },
     "execution_count": 3,
     "metadata": {},
     "output_type": "execute_result"
    },
    {
     "data": {
      "image/png": "[encoded data removed]",
      "text/plain": [
       "<matplotlib.figure.Figure at 0x7f8c6ac4ec18>"
      ]
     },
     "metadata": {},
     "output_type": "display_data"
    }
   ],
   "source": [
    "bike_rentals['cnt'].hist()\n"
   ]
  },
  {
   "cell_type": "code",
   "execution_count": 4,
   "metadata": {
    "collapsed": false
   },
   "outputs": [
    {
     "name": "stdout",
     "output_type": "stream",
     "text": [
      "weekday       0.026900\n",
      "workingday    0.030284\n",
      "holiday       0.030927\n",
      "windspeed     0.093234\n",
      "mnth          0.120638\n",
      "weathersit    0.142426\n",
      "season        0.178056\n",
      "yr            0.250495\n",
      "instant       0.278379\n",
      "hum           0.322911\n",
      "hr            0.394071\n",
      "atemp         0.400929\n",
      "temp          0.404772\n",
      "casual        0.694564\n",
      "registered    0.972151\n",
      "cnt           1.000000\n",
      "Name: cnt, dtype: float64\n"
     ]
    },
    {
     "data": {
      "image/png": "[encoded data removed]",
      "text/plain": [
       "<matplotlib.figure.Figure at 0x7f8c68c31278>"
      ]
     },
     "metadata": {},
     "output_type": "display_data"
    }
   ],
   "source": [
    "#correlations with cnt column\n",
    "corr=bike_rentals.corr()\n",
    "ax = sns.heatmap(corr, linewidths=.5)\n",
    "cnt_corr=np.abs(corr['cnt']).sort_values()\n",
    "print(cnt_corr)"
   ]
  },
  {
   "cell_type": "markdown",
   "metadata": {},
   "source": [
    "The hr column in bike_rentals contains the hours during which bikes are rented, from 1 to 24. A machine treats each hour differently, without understanding that certain hours are related. We can introduce some order into the process by creating a new column with labels for morning, afternoon, evening, and night. This bundles similar times together, enabling the model to make better decisions."
   ]
  },
  {
   "cell_type": "markdown",
   "metadata": {},
   "source": [
    "Let us write a function called assign_label that takes in a numeric value for an hour, and returns: \n",
    "    - 1 if the hour is from 6 to 12\n",
    "    - 2 if the hour is from 12 to 18\n",
    "    - 3 if the hour is from 18 to 24\n",
    "    - 4 if the hour is from 0 to 6"
   ]
  },
  {
   "cell_type": "code",
   "execution_count": 5,
   "metadata": {
    "collapsed": false
   },
   "outputs": [
    {
     "data": {
      "text/plain": [
       "0     4\n",
       "1     4\n",
       "2     4\n",
       "3     4\n",
       "4     4\n",
       "5     4\n",
       "6     1\n",
       "7     1\n",
       "8     1\n",
       "9     1\n",
       "10    1\n",
       "11    1\n",
       "12    2\n",
       "13    2\n",
       "14    2\n",
       "15    2\n",
       "16    2\n",
       "17    2\n",
       "18    3\n",
       "19    3\n",
       "Name: time_label, dtype: int64"
      ]
     },
     "execution_count": 5,
     "metadata": {},
     "output_type": "execute_result"
    }
   ],
   "source": [
    "def assign_label(hour):\n",
    "    if hour >=0 and hour < 6:\n",
    "        return 4\n",
    "    elif hour >=6 and hour < 12:\n",
    "        return 1\n",
    "    elif hour >= 12 and hour < 18:\n",
    "        return 2\n",
    "    elif hour >= 18 and hour <=24:\n",
    "        return 3\n",
    "\n",
    "#apply to hours column\n",
    "bike_rentals['time_label']=bike_rentals['hr'].apply(assign_label)\n",
    "bike_rentals['time_label'].head(20)"
   ]
  },
  {
   "cell_type": "markdown",
   "metadata": {},
   "source": [
    "## Error Metric"
   ]
  },
  {
   "cell_type": "markdown",
   "metadata": {},
   "source": [
    "Mean Squared Error makes the most sense to use as our data is numerical and continuous in general."
   ]
  },
  {
   "cell_type": "code",
   "execution_count": 6,
   "metadata": {
    "collapsed": false
   },
   "outputs": [
    {
     "name": "stdout",
     "output_type": "stream",
     "text": [
      "Train set information\n",
      "<class 'pandas.core.frame.DataFrame'>\n",
      "Int64Index: 13903 entries, 13956 to 4216\n",
      "Data columns (total 18 columns):\n",
      "instant       13903 non-null int64\n",
      "dteday        13903 non-null object\n",
      "season        13903 non-null int64\n",
      "yr            13903 non-null int64\n",
      "mnth          13903 non-null int64\n",
      "hr            13903 non-null int64\n",
      "holiday       13903 non-null int64\n",
      "weekday       13903 non-null int64\n",
      "workingday    13903 non-null int64\n",
      "weathersit    13903 non-null int64\n",
      "temp          13903 non-null float64\n",
      "atemp         13903 non-null float64\n",
      "hum           13903 non-null float64\n",
      "windspeed     13903 non-null float64\n",
      "casual        13903 non-null int64\n",
      "registered    13903 non-null int64\n",
      "cnt           13903 non-null int64\n",
      "time_label    13903 non-null int64\n",
      "dtypes: float64(4), int64(13), object(1)\n",
      "memory usage: 2.0+ MB\n",
      "None\n",
      "----------------------------------------\n",
      "Test set information\n",
      "<class 'pandas.core.frame.DataFrame'>\n",
      "Int64Index: 3476 entries, 1 to 17368\n",
      "Data columns (total 18 columns):\n",
      "instant       3476 non-null int64\n",
      "dteday        3476 non-null object\n",
      "season        3476 non-null int64\n",
      "yr            3476 non-null int64\n",
      "mnth          3476 non-null int64\n",
      "hr            3476 non-null int64\n",
      "holiday       3476 non-null int64\n",
      "weekday       3476 non-null int64\n",
      "workingday    3476 non-null int64\n",
      "weathersit    3476 non-null int64\n",
      "temp          3476 non-null float64\n",
      "atemp         3476 non-null float64\n",
      "hum           3476 non-null float64\n",
      "windspeed     3476 non-null float64\n",
      "casual        3476 non-null int64\n",
      "registered    3476 non-null int64\n",
      "cnt           3476 non-null int64\n",
      "time_label    3476 non-null int64\n",
      "dtypes: float64(4), int64(13), object(1)\n",
      "memory usage: 516.0+ KB\n",
      "None\n"
     ]
    }
   ],
   "source": [
    "#split into training and test sets\n",
    "train=bike_rentals.sample(frac=0.8)\n",
    "test_index=bike_rentals.index.isin(train.index)\n",
    "test=bike_rentals.loc[~test_index]\n",
    "print('Train set information')\n",
    "print(train.info())\n",
    "print('----------------------------------------')\n",
    "print('Test set information')\n",
    "print(test.info())"
   ]
  },
  {
   "cell_type": "code",
   "execution_count": 7,
   "metadata": {
    "collapsed": false
   },
   "outputs": [
    {
     "data": {
      "text/plain": [
       "['instant',\n",
       " 'season',\n",
       " 'yr',\n",
       " 'mnth',\n",
       " 'hr',\n",
       " 'holiday',\n",
       " 'weekday',\n",
       " 'workingday',\n",
       " 'weathersit',\n",
       " 'temp',\n",
       " 'atemp',\n",
       " 'hum',\n",
       " 'windspeed',\n",
       " 'time_label']"
      ]
     },
     "execution_count": 7,
     "metadata": {},
     "output_type": "execute_result"
    }
   ],
   "source": [
    "def get_features():\n",
    "    '''\n",
    "    get prediction columns based on different correlation thresholds\n",
    "    '''\n",
    "    predictors = list(train.columns)\n",
    "    predictors.remove(\"cnt\")\n",
    "    predictors.remove(\"casual\")\n",
    "    predictors.remove(\"registered\")\n",
    "    predictors.remove(\"dteday\")\n",
    "    return predictors\n",
    "get_features()"
   ]
  },
  {
   "cell_type": "markdown",
   "metadata": {},
   "source": [
    "## Linear Regression model "
   ]
  },
  {
   "cell_type": "code",
   "execution_count": 8,
   "metadata": {
    "collapsed": true
   },
   "outputs": [],
   "source": [
    "from sklearn.linear_model import LinearRegression\n",
    "from sklearn.metrics import mean_squared_error\n"
   ]
  },
  {
   "cell_type": "code",
   "execution_count": 9,
   "metadata": {
    "collapsed": false
   },
   "outputs": [],
   "source": [
    "#use pred_cols as features\n",
    "def LR_train_and_test(features):\n",
    "    \n",
    "    reg=LinearRegression().fit(train[features], train['cnt'])\n",
    "    predictions=reg.predict(test[features])\n",
    "    \n",
    "    mse=mean_squared_error(test['cnt'], predictions)\n",
    "    rmse=np.sqrt(mse)\n",
    "    return rmse\n"
   ]
  },
  {
   "cell_type": "code",
   "execution_count": 10,
   "metadata": {
    "collapsed": false
   },
   "outputs": [
    {
     "name": "stdout",
     "output_type": "stream",
     "text": [
      "Rmse is: 128.58494406651337\n"
     ]
    }
   ],
   "source": [
    "print('Rmse is:',\\\n",
    "      LR_train_and_test(get_features()))"
   ]
  },
  {
   "cell_type": "markdown",
   "metadata": {},
   "source": [
    "The error is clearly very high, showing that perhaps Linear Regression is not the best method in this case. "
   ]
  },
  {
   "cell_type": "markdown",
   "metadata": {},
   "source": [
    "## Decision Trees"
   ]
  },
  {
   "cell_type": "code",
   "execution_count": 11,
   "metadata": {
    "collapsed": true
   },
   "outputs": [],
   "source": [
    "from sklearn.tree import DecisionTreeClassifier\n"
   ]
  },
  {
   "cell_type": "code",
   "execution_count": 12,
   "metadata": {
    "collapsed": true
   },
   "outputs": [],
   "source": [
    "def DT_train_and_test(features, leaves=2, depth=None):\n",
    "    dt=DecisionTreeClassifier(min_samples_leaf=leaves, max_depth=depth)\n",
    "    dt.fit(train[features], train['cnt'])\n",
    "    predictions=dt.predict(test[features])\n",
    "    \n",
    "    mse=np.mean((predictions - test[\"cnt\"]) ** 2)\n",
    "    rmse=np.sqrt(mse)\n",
    "    var=np.var(predictions)\n",
    "    return rmse, var"
   ]
  },
  {
   "cell_type": "markdown",
   "metadata": {},
   "source": [
    "### Varying number of min_samples_leaf and max_depth"
   ]
  },
  {
   "cell_type": "code",
   "execution_count": 13,
   "metadata": {
    "collapsed": false
   },
   "outputs": [
    {
     "name": "stdout",
     "output_type": "stream",
     "text": [
      "min_samples_leaf=2, then rmse, variance is: (79.65293856100924, 26496.652563493084)\n",
      "min_samples_leaf=5, then rmse, variance is: (91.60850684866868, 24485.379641808166)\n",
      "min_samples_leaf=7, then rmse, variance is: (90.9442965490339, 25294.766983133395)\n",
      "min_samples_leaf=10, then rmse, variance is: (93.7017555189964, 26197.535589347834)\n"
     ]
    }
   ],
   "source": [
    "print('min_samples_leaf=2, then rmse, variance is:',\\\n",
    "      DT_train_and_test(get_features(),leaves=2, depth=None))\n",
    "print('min_samples_leaf=5, then rmse, variance is:',\\\n",
    "      DT_train_and_test(get_features(),leaves=5, depth=None))\n",
    "print('min_samples_leaf=7, then rmse, variance is:',\\\n",
    "      DT_train_and_test(get_features(),leaves=7, depth=None))\n",
    "print('min_samples_leaf=10, then rmse, variance is:',\\\n",
    "      DT_train_and_test(get_features(),leaves=10, depth=None))"
   ]
  },
  {
   "cell_type": "markdown",
   "metadata": {},
   "source": [
    "2 leaves seems to perform best, now let us vary the depth"
   ]
  },
  {
   "cell_type": "code",
   "execution_count": 14,
   "metadata": {
    "collapsed": false
   },
   "outputs": [
    {
     "name": "stdout",
     "output_type": "stream",
     "text": [
      "max_depth=5, then rmse, variance is: (137.42004998576357, 9414.036666353268)\n",
      "max_depth=10, then rmse, variance is: (99.68392799531614, 25631.042358765215)\n",
      "max_depth=20, then rmse, variance is: (83.14757701049241, 25675.78254926764)\n",
      "min_samples_leaf=50, then rmse, variance is: (76.8096053730288, 26973.10276815143)\n"
     ]
    }
   ],
   "source": [
    "print('max_depth=5, then rmse, variance is:',\\\n",
    "      DT_train_and_test(get_features(),depth=5))\n",
    "print('max_depth=10, then rmse, variance is:',\\\n",
    "      DT_train_and_test(get_features(),depth=10))\n",
    "print('max_depth=20, then rmse, variance is:',\\\n",
    "      DT_train_and_test(get_features(),depth=20))\n",
    "print('min_samples_leaf=50, then rmse, variance is:',\\\n",
    "      DT_train_and_test(get_features(),depth=50))"
   ]
  },
  {
   "cell_type": "markdown",
   "metadata": {},
   "source": [
    "## Random Forest"
   ]
  },
  {
   "cell_type": "code",
   "execution_count": 16,
   "metadata": {
    "collapsed": false
   },
   "outputs": [],
   "source": [
    "from sklearn.ensemble import RandomForestRegressor "
   ]
  },
  {
   "cell_type": "code",
   "execution_count": 17,
   "metadata": {
    "collapsed": true
   },
   "outputs": [],
   "source": [
    "def RF_train_and_test(features, trees=100):\n",
    "    rf=RandomForestRegressor(n_estimators=trees)\n",
    "    rf.fit(train[features], train['cnt'])\n",
    "    predictions=rf.predict(test[features])\n",
    "    \n",
    "    mse=np.mean((predictions - test[\"cnt\"]) ** 2)\n",
    "    rmse=np.sqrt(mse)\n",
    "    var=np.var(predictions)\n",
    "    return rmse, var"
   ]
  },
  {
   "cell_type": "code",
   "execution_count": null,
   "metadata": {
    "collapsed": true
   },
   "outputs": [],
   "source": [
    "print('n_estimators=5, then rmse, variance is:',\\\n",
    "      RF_train_and_test(get_features(),trees=5))\n",
    "print('n_estimators=20, then rmse, variance is:',\\\n",
    "      RF_train_and_test(get_features(),leaves=5, depth=None))\n",
    "print('n_estimators=50, then rmse, variance is:',\\\n",
    "      RF_train_and_test(get_features(),leaves=7, depth=None))\n",
    "print('n_estimators=100, then rmse, variance is:',\\\n",
    "      RF_train_and_test(get_features(),leaves=10, depth=None))\n",
    "print('n_estimators=500, then rmse, variance is:',\\\n",
    "      RF_train_and_test(get_features(),leaves=10, depth=None))"
   ]
  }
 ],
 "metadata": {
  "kernelspec": {
   "display_name": "Python 3",
   "language": "python",
   "name": "python3"
  },
  "language_info": {
   "codemirror_mode": {
    "name": "ipython",
    "version": 3
   },
   "file_extension": ".py",
   "mimetype": "text/x-python",
   "name": "python",
   "nbconvert_exporter": "python",
   "pygments_lexer": "ipython3",
   "version": "3.4.3"
  }
 },
 "nbformat": 4,
 "nbformat_minor": 0
}
